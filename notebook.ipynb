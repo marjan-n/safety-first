{
 "cells": [
  {
   "cell_type": "code",
   "execution_count": 338,
   "metadata": {},
   "outputs": [],
   "source": [
    "pr_file_name = \"20230831_060603_pr_sharings.json\""
   ]
  },
  {
   "cell_type": "code",
   "execution_count": 339,
   "metadata": {},
   "outputs": [
    {
     "name": "stderr",
     "output_type": "stream",
     "text": [
      "[nltk_data] Downloading package words to /Users/marjann/nltk_data...\n",
      "[nltk_data]   Package words is already up-to-date!\n"
     ]
    }
   ],
   "source": [
    "import json\n",
    "import re\n",
    "import nltk\n",
    "import pandas as pd\n",
    "from nltk.corpus import words\n",
    "nltk.download('words')\n",
    "english_words = set(words.words())\n",
    "from scipy import stats\n",
    "import seaborn as sns\n",
    "import matplotlib.pyplot as plt\n",
    "import statsmodels.api as sm\n",
    "from scipy.stats import shapiro\n",
    "from scipy.stats import levene\n",
    "from scipy.stats import mannwhitneyu\n",
    "import numpy as np"
   ]
  },
  {
   "cell_type": "code",
   "execution_count": 341,
   "metadata": {},
   "outputs": [
    {
     "name": "stdout",
     "output_type": "stream",
     "text": [
      "198\n"
     ]
    }
   ],
   "source": [
    "# Load the JSON file\n",
    "with open(pr_file_name, \"r\", encoding=\"utf-8\") as f:\n",
    "    data = json.load(f)\n",
    "\n",
    "# Extract all conversations\n",
    "prs = {}\n",
    "\n",
    "def filter_non_english_words(text):\n",
    "    words_list = text.split()\n",
    "    filtered_words = [word for word in words_list if word.lower() in english_words]\n",
    "    return ' '.join(filtered_words)\n",
    "\n",
    "def filter_prompt(prompt):\n",
    "    prompt = re.sub(r'\\s+', ' ', prompt).strip()\n",
    "    prompt = re.sub(r'<[^>]*>.*?</[^>]*>', '', prompt, flags=re.DOTALL)\n",
    "    prompt = re.sub(r'[^a-zA-Z0-9\\s]', '', prompt)\n",
    "    prompt = filter_non_english_words(prompt)\n",
    "    return prompt\n",
    "\n",
    "counter = 1\n",
    "for source in data.get(\"Sources\", []):  # Loop through each Source\n",
    "    isClosed = source.get(\"ClosedAt\", [])\n",
    "    if isClosed is None:\n",
    "        continue # we're only considering closed PRs\n",
    "    for sharing in source.get(\"ChatgptSharing\", []):  # Loop through ChatgptSharing\n",
    "        counter += 1\n",
    "        conversations = sharing.get(\"Conversations\", [])  # Extract Conversations\n",
    "        prompts = []\n",
    "        for conversation in conversations:\n",
    "            prompt = conversation['Prompt']\n",
    "            prompt = filter_prompt(prompt)\n",
    "            answer = conversation['Answer']\n",
    "            answer = filter_prompt(answer)\n",
    "            if len(prompt) == 0:\n",
    "                continue\n",
    "            prompts.append(prompt)\n",
    "    # PR LEVEL\n",
    "    if len(prompts) == 0:\n",
    "        continue\n",
    "    timeOpened      = source.get(\"CreatedAt\", [])\n",
    "    timeClosed      = source.get(\"ClosedAt\", [])\n",
    "    isMerged        = 1 if source.get(\"MergedAt\", []) is not None else 0\n",
    "    timeMerged      = source.get(\"MergedAt\")\n",
    "    additions       = source.get(\"Additions\")\n",
    "    deletions       = source.get(\"Deletions\")\n",
    "    changedFiles    = source.get(\"ChangedFiles\")\n",
    "    commitsTotal    = source.get(\"CommitsTotalCount\")\n",
    "    numConversations    = len(conversations)\n",
    "    prs[source.get(\"Number\", [])] = (timeOpened, timeClosed, isMerged, timeMerged, additions, deletions, changedFiles, commitsTotal, numConversations, prompts)\n",
    "print(counter)"
   ]
  },
  {
   "cell_type": "code",
   "execution_count": 131,
   "metadata": {},
   "outputs": [
    {
     "data": {
      "text/plain": [
       "isMerge\n",
       "0    20\n",
       "1    93\n",
       "Name: index, dtype: int64"
      ]
     },
     "execution_count": 131,
     "metadata": {},
     "output_type": "execute_result"
    }
   ],
   "source": [
    "df = pd.DataFrame.from_dict(prs)\n",
    "df = pd.DataFrame.from_dict(prs, orient='index', columns=[ \"tOpen\", \"tClose\", \"isMerge\", \"tMerge\", \"nAdd\", \"nDel\", \"changeFile\", \"nCommits\", \"nConvos\", \"prompts\"])\n",
    "df = df.reset_index()\n",
    "df.groupby([\"isMerge\"]).index.count()"
   ]
  },
  {
   "cell_type": "code",
   "execution_count": null,
   "metadata": {},
   "outputs": [
    {
     "name": "stderr",
     "output_type": "stream",
     "text": [
      "/Users/marjann/.local/lib/python3.10/site-packages/openpyxl/styles/stylesheet.py:237: UserWarning: Workbook contains no default style, apply openpyxl's default\n",
      "  warn(\"Workbook contains no default style, apply openpyxl's default\")\n"
     ]
    }
   ],
   "source": [
    "# df.to_excel(\"prompts.xlsx\")\n",
    "liwc_df = pd.read_excel(\"22-liwc.xlsx\")"
   ]
  },
  {
   "cell_type": "markdown",
   "metadata": {},
   "source": [
    "## Psychological Safety"
   ]
  },
  {
   "cell_type": "code",
   "execution_count": 264,
   "metadata": {},
   "outputs": [],
   "source": [
    "# voice_words     = [r\"sorry\", r\"mistake\", r\"apolog.*\", r\"incorrect\", \n",
    "#                     r\"disagree\", r\"wrong\", r\"impossible\", r\"unlikely\", \n",
    "#                     r\"don’t think\", r\"don’t know\", r\"unsure\", r\"help\", \n",
    "#                     r\"who\", r\"what\", r\"where\", r\"why\", r\"how\", r\"\\?\"]\n",
    "# support_words   = [r\"yes\", r\"yeah\", r\"ya\", r\"yea\", r\"agree.*\" \n",
    "#                 r\"congrat.*\", r\"amazing\", r\"amaze.*\", r\"wonderful\", r\"wow\", r\"thank.*\"]\n",
    "# fam_words       = [r\";[^/^\\\\^]*?:\", r\"hah.*\", r\"aha.*\", r\"lol.*\", r\"lmao.*\", r\"jok.*\"]\n",
    "# learning_words  = [r\"improv.*\", r\"better\", r\"instead\", r\"actual.*\", r\"what if\" \n",
    "#                 r\"feedback\", r\"share\", r\"thoughts\", r\"idea.*\"]\n",
    "                \n",
    "# ps_words = voice_words + support_words + fam_words + learning_words\n",
    "\n",
    "# # FUNCTION TO COUNT MATCHES\n",
    "# def count_matches(prompt, list_words):\n",
    "#     return sum(bool(re.search(pattern, prompt)) for pattern in list_words)\n",
    "\n",
    "# # APPLY THE FUNCTION\n",
    "# categories = [(\"voice_count\", voice_words), (\"support_count\", support_words), \n",
    "#              (\"fam_count\", fam_words), (\"learning_count\", learning_words), (\"ps\", ps_words)]\n",
    "# for category in categories:\n",
    "#     # divided by the number of prompts\n",
    "#     print()\n",
    "#     print(category[0])\n",
    "#     df[category[0]] = df[\"prompts\"].apply(lambda x: count_matches(str(x), category[1])/len(x))\n",
    "#     merge_df = (df[df['isMerge'] == 1][category[0]]).copy()\n",
    "#     unmerge_df = (df[df['isMerge'] == 0][category[0]]).copy()\n",
    "#     print(df.groupby(['isMerge'])[category[0]].mean())\n",
    "#     t_stat, p_value = stats.ttest_ind(merge_df, unmerge_df)\n",
    "#     # Print the results\n",
    "#     print(\"t-statistic:\", t_stat)\n",
    "#     print(\"p-value:\", p_value)\n",
    "\n",
    "#     # Interpretation of the p-value:\n",
    "#     alpha = 0.05  # 5% significance level\n",
    "#     if p_value < alpha:\n",
    "#         print(\"The difference between the groups is statistically significant.\")\n",
    "#     else:\n",
    "#         print(\"The difference between the groups is not statistically significant.\")"
   ]
  },
  {
   "cell_type": "code",
   "execution_count": 265,
   "metadata": {},
   "outputs": [],
   "source": [
    "# # # List of columns you're interested in\n",
    "# columns_of_interest = [\"isMerge\", \"ps\"]\n",
    "\n",
    "# # # # Select only the columns of interest\n",
    "# # # df_subset = df[columns_of_interest]\n",
    "\n",
    "# # # Calculate the correlation matrix\n",
    "# # # liwc_df_subset = liwc_df.drop(columns={\"tOpen\", \"tClose\", \"tMerge\", \"prompts\"})\n",
    "# liwc_df_subset = liwc_df[columns_of_interest].copy()\n",
    "# corr_matrix = liwc_df_subset.corr()\n",
    "\n",
    "# # Create the heatmap\n",
    "# plt.figure(figsize=(11, 10))  # Adjust the size if necessary\n",
    "# sns.heatmap(corr_matrix, annot=True, cmap='coolwarm', fmt='.2f', vmin=-1, vmax=1)\n",
    "# plt.title('Correlation Heatmap of Selected Columns')\n",
    "# plt.show()"
   ]
  },
  {
   "cell_type": "markdown",
   "metadata": {},
   "source": [
    "## RQ1"
   ]
  },
  {
   "cell_type": "markdown",
   "metadata": {},
   "source": [
    "### assumptions"
   ]
  },
  {
   "cell_type": "code",
   "execution_count": 304,
   "metadata": {},
   "outputs": [
    {
     "name": "stdout",
     "output_type": "stream",
     "text": [
      "Group 1: 0.9438502626055965 p-value = 0.00056575542211692\n",
      "Group 2: 0.876148566825772 p-value = 0.015094864522788208\n",
      "Levene's Test 0.6464203615182721 p-value = 0.42311393768030736\n"
     ]
    }
   ],
   "source": [
    "category = \"ps\"\n",
    "group_1 = liwc_df[liwc_df['isMerge'] == 1][category].copy()\n",
    "group_2 = liwc_df[liwc_df['isMerge'] == 0][category].copy()\n",
    "stat_1, p_1 = shapiro(group_1)\n",
    "stat_2, p_2 = shapiro(group_2)\n",
    "print(f\"Group 1: {stat_1} p-value = {p_1}\")\n",
    "print(f\"Group 2: {stat_2} p-value = {p_2}\")\n",
    "stat, p = levene(group_1, group_2)\n",
    "print(f\"Levene's Test {stat} p-value = {p}\")"
   ]
  },
  {
   "cell_type": "code",
   "execution_count": 302,
   "metadata": {},
   "outputs": [
    {
     "data": {
      "text/html": [
       "<div>\n",
       "<style scoped>\n",
       "    .dataframe tbody tr th:only-of-type {\n",
       "        vertical-align: middle;\n",
       "    }\n",
       "\n",
       "    .dataframe tbody tr th {\n",
       "        vertical-align: top;\n",
       "    }\n",
       "\n",
       "    .dataframe thead th {\n",
       "        text-align: right;\n",
       "    }\n",
       "</style>\n",
       "<table border=\"1\" class=\"dataframe\">\n",
       "  <thead>\n",
       "    <tr style=\"text-align: right;\">\n",
       "      <th></th>\n",
       "      <th>count</th>\n",
       "      <th>mean</th>\n",
       "      <th>std</th>\n",
       "      <th>min</th>\n",
       "      <th>25%</th>\n",
       "      <th>50%</th>\n",
       "      <th>75%</th>\n",
       "      <th>max</th>\n",
       "    </tr>\n",
       "    <tr>\n",
       "      <th>isMerge</th>\n",
       "      <th></th>\n",
       "      <th></th>\n",
       "      <th></th>\n",
       "      <th></th>\n",
       "      <th></th>\n",
       "      <th></th>\n",
       "      <th></th>\n",
       "      <th></th>\n",
       "    </tr>\n",
       "  </thead>\n",
       "  <tbody>\n",
       "    <tr>\n",
       "      <th>0</th>\n",
       "      <td>20.0</td>\n",
       "      <td>6.894062</td>\n",
       "      <td>5.895949</td>\n",
       "      <td>0.0</td>\n",
       "      <td>1.475625</td>\n",
       "      <td>4.505625</td>\n",
       "      <td>12.064687</td>\n",
       "      <td>16.60375</td>\n",
       "    </tr>\n",
       "    <tr>\n",
       "      <th>1</th>\n",
       "      <td>93.0</td>\n",
       "      <td>9.886455</td>\n",
       "      <td>5.379341</td>\n",
       "      <td>0.0</td>\n",
       "      <td>5.078750</td>\n",
       "      <td>10.667500</td>\n",
       "      <td>14.647500</td>\n",
       "      <td>19.34500</td>\n",
       "    </tr>\n",
       "  </tbody>\n",
       "</table>\n",
       "</div>"
      ],
      "text/plain": [
       "         count      mean       std  min       25%        50%        75%  \\\n",
       "isMerge                                                                   \n",
       "0         20.0  6.894062  5.895949  0.0  1.475625   4.505625  12.064687   \n",
       "1         93.0  9.886455  5.379341  0.0  5.078750  10.667500  14.647500   \n",
       "\n",
       "              max  \n",
       "isMerge            \n",
       "0        16.60375  \n",
       "1        19.34500  "
      ]
     },
     "execution_count": 302,
     "metadata": {},
     "output_type": "execute_result"
    }
   ],
   "source": [
    "liwc_df.groupby(['isMerge'])['ps'].describe()"
   ]
  },
  {
   "cell_type": "code",
   "execution_count": 311,
   "metadata": {},
   "outputs": [
    {
     "name": "stdout",
     "output_type": "stream",
     "text": [
      "\n",
      "ps\n",
      "isMerge\n",
      "0    6.894062\n",
      "1    9.886455\n",
      "Name: ps, dtype: float64\n",
      "Mann-Whitney U statistic: 1220.0\n",
      "P-value: 0.02935565225699594\n",
      "\n",
      "fam\n",
      "isMerge\n",
      "0    1.568000\n",
      "1    0.541075\n",
      "Name: fam, dtype: float64\n",
      "Mann-Whitney U statistic: 798.0\n",
      "P-value: 0.15959889470093735\n",
      "\n",
      "support\n",
      "isMerge\n",
      "0    0.000000\n",
      "1    0.175735\n",
      "Name: support, dtype: float64\n",
      "Mann-Whitney U statistic: 1210.0\n",
      "P-value: 0.005530976516482099\n",
      "\n",
      "learning\n",
      "isMerge\n",
      "0    5.250750\n",
      "1    7.902312\n",
      "Name: learning, dtype: float64\n",
      "Mann-Whitney U statistic: 1161.0\n",
      "P-value: 0.08260465503039674\n",
      "\n",
      "voice\n",
      "isMerge\n",
      "0    21.520500\n",
      "1    31.037688\n",
      "Name: voice, dtype: float64\n",
      "Mann-Whitney U statistic: 1181.5\n",
      "P-value: 0.058740357117218395\n"
     ]
    }
   ],
   "source": [
    "    # next: think of categories to combine for PS and its individual categories\n",
    "    # SUPPORT\n",
    "    # LEARNING\n",
    "    # VOICE\n",
    "    # FAMILIARITY \n",
    "\n",
    "    \"\"\"\n",
    "    THE T-TESTS \n",
    "    \"\"\" \n",
    "    categories = [\"ps\", \"fam\", \"support\", \"learning\", \"voice\"]\n",
    "    for category in categories:\n",
    "        print()\n",
    "        print(category)\n",
    "        merge_df = (liwc_df[liwc_df['isMerge'] == 1][category]).copy()\n",
    "        unmerge_df = (liwc_df[liwc_df['isMerge'] == 0][category]).copy()\n",
    "        print(liwc_df.groupby(['isMerge'])[category].mean())\n",
    "\n",
    "        # Perform the Mann-Whitney U test\n",
    "        stat, p_value = mannwhitneyu(merge_df, unmerge_df)\n",
    "\n",
    "        # Print the results\n",
    "        print(f\"Mann-Whitney U statistic: {stat}\")\n",
    "        print(f\"P-value: {p_value}\")\n",
    "\n",
    "        # # Print the results\n",
    "        # print(\"t-statistic:\", t_stat)\n",
    "        # print(\"p-value:\", p_value)"
   ]
  },
  {
   "cell_type": "code",
   "execution_count": null,
   "metadata": {},
   "outputs": [
    {
     "data": {
      "text/plain": [
       "' RQ2: Are all sub-components of PS equally responsible for the association, or lack thereof? '"
      ]
     },
     "execution_count": 249,
     "metadata": {},
     "output_type": "execute_result"
    }
   ],
   "source": [
    "\"\"\" RQ1: Is there a difference in PS composition between merged and non-merged devGPT pull requests? \"\"\"\n",
    "\"\"\" RQ2: How about when we control for the complexity of the PR? \"\"\" \n",
    "\n",
    "\"\"\" CHECK NORMALITY ASSUMPTIONS \"\"\""
   ]
  },
  {
   "cell_type": "code",
   "execution_count": 331,
   "metadata": {},
   "outputs": [
    {
     "name": "stderr",
     "output_type": "stream",
     "text": [
      "/Users/marjann/.local/lib/python3.10/site-packages/openpyxl/styles/stylesheet.py:237: UserWarning: Workbook contains no default style, apply openpyxl's default\n",
      "  warn(\"Workbook contains no default style, apply openpyxl's default\")\n"
     ]
    },
    {
     "data": {
      "text/plain": [
       "0     -7.965546\n",
       "1      1.344314\n",
       "2      1.341549\n",
       "3      3.324915\n",
       "4      1.116492\n",
       "         ...   \n",
       "108    2.875345\n",
       "109    5.320874\n",
       "110    3.464705\n",
       "111    3.634648\n",
       "112    2.635874\n",
       "Name: tToClose, Length: 113, dtype: float64"
      ]
     },
     "execution_count": 331,
     "metadata": {},
     "output_type": "execute_result"
    }
   ],
   "source": [
    "liwc_df = pd.read_excel(\"22-liwc.xlsx\")\n",
    "learning_categories = ['cogproc', 'curiosity']\n",
    "liwc_df['learning'] = liwc_df[learning_categories].mean(axis=1)\n",
    "\n",
    "support_categories = [\"assent\", \"emo_pos\", \"polite\"]\n",
    "liwc_df['support'] = liwc_df[support_categories].mean(axis=1)\n",
    "\n",
    "familiarity_categories = ['Conversation']\n",
    "liwc_df['fam'] = liwc_df[familiarity_categories].mean(axis=1)\n",
    "liwc_df['fam'] = liwc_df['fam'].fillna(0)\n",
    "\n",
    "voice_categories = ['Authentic', 'differ']\n",
    "liwc_df['voice'] = liwc_df[voice_categories].mean(axis=1)\n",
    "liwc_df['voice'] = liwc_df['voice'].fillna(0)\n",
    "\n",
    "ps_categories = learning_categories + support_categories + familiarity_categories + voice_categories\n",
    "liwc_df['ps'] = liwc_df[ps_categories].mean(axis=1)\n",
    "liwc_df['ps'] = liwc_df['ps'].fillna(0)\n",
    "\n",
    "cols = ['nCommits']\n",
    "for col in cols:\n",
    "    liwc_df[col] = np.log(liwc_df[col])\n",
    "liwc_df['tToClose'] = np.log((pd.to_datetime(liwc_df[\"tClose\"]) - pd.to_datetime(liwc_df[\"tOpen\"])).dt.total_seconds() / (60 * 60 * 24))\n",
    "liwc_df['tToClose']"
   ]
  },
  {
   "cell_type": "code",
   "execution_count": 332,
   "metadata": {},
   "outputs": [
    {
     "name": "stdout",
     "output_type": "stream",
     "text": [
      "Optimization terminated successfully.\n",
      "         Current function value: 0.368850\n",
      "         Iterations 9\n",
      "                           Logit Regression Results                           \n",
      "==============================================================================\n",
      "Dep. Variable:                isMerge   No. Observations:                  113\n",
      "Model:                          Logit   Df Residuals:                      106\n",
      "Method:                           MLE   Df Model:                            6\n",
      "Date:                Sat, 22 Mar 2025   Pseudo R-squ.:                  0.2098\n",
      "Time:                        19:29:32   Log-Likelihood:                -41.680\n",
      "converged:                       True   LL-Null:                       -52.748\n",
      "Covariance Type:            nonrobust   LLR p-value:                  0.001144\n",
      "==============================================================================\n",
      "                 coef    std err          z      P>|z|      [0.025      0.975]\n",
      "------------------------------------------------------------------------------\n",
      "const          0.1915      0.540      0.355      0.723      -0.867       1.250\n",
      "ps             0.0806      0.052      1.537      0.124      -0.022       0.183\n",
      "nAdd          -0.0003      0.000     -0.795      0.426      -0.001       0.000\n",
      "nDel          -0.0012      0.001     -1.243      0.214      -0.003       0.001\n",
      "changeFile     0.0109      0.018      0.611      0.541      -0.024       0.046\n",
      "nCommits       0.6916      0.274      2.522      0.012       0.154       1.229\n",
      "tToClose      -0.2030      0.109     -1.857      0.063      -0.417       0.011\n",
      "==============================================================================\n"
     ]
    }
   ],
   "source": [
    "import statsmodels.api as sm\n",
    "\n",
    "X = liwc_df[['ps', 'nAdd', 'nDel', 'changeFile', 'nCommits', 'tToClose']]\n",
    "# time it took to get merged; number of contributors, number of discussions\n",
    "X = sm.add_constant(X)  # Add intercept term\n",
    "y = liwc_df['isMerge']  # Dependent variable\n",
    "\n",
    "# \"tOpen\", \"tClose\", \"isMerge\", \"tMerge\", \"nAdd\", \"nDel\", \"changeFile\", \"nCommits\", \"nConvos\", \"prompts\"\n",
    "\n",
    "# limited to the attributes in this dataset\n",
    "\n",
    "# Fit logistic regression model\n",
    "logit_model = sm.Logit(y, X)\n",
    "result = logit_model.fit()\n",
    "\n",
    "# Print results\n",
    "print(result.summary())"
   ]
  },
  {
   "cell_type": "code",
   "execution_count": 337,
   "metadata": {},
   "outputs": [
    {
     "data": {
      "image/png": "[encoded data removed]",
      "text/plain": [
       "<Figure size 1100x1000 with 2 Axes>"
      ]
     },
     "metadata": {},
     "output_type": "display_data"
    }
   ],
   "source": [
    "# do check for multi-collinearity\n",
    "# # List of columns you're interested in\n",
    "columns_of_interest = ['ps', 'nAdd', 'nDel', 'changeFile', 'nCommits', 'tToClose']\n",
    "liwc_df_subset = liwc_df[columns_of_interest].copy()\n",
    "# Rename columns in liwc_df_subset\n",
    "liwc_df_subset.rename(columns={\n",
    "    'ps': 'PS', \n",
    "    'nAdd': 'added lines', \n",
    "    'nDel': 'deleted lines', \n",
    "    'changeFile': 'files changed', \n",
    "    'nCommits': 'commits (log-transform)', \n",
    "    'tToClose': 'time to closure (log-transform)'\n",
    "}, inplace=True)\n",
    "corr_matrix = liwc_df_subset.corr()\n",
    "\n",
    "# Create the heatmap\n",
    "plt.figure(figsize=(11, 10))  # Adjust the size if necessary\n",
    "sns.heatmap(corr_matrix, annot=True, cmap='coolwarm', fmt='.2f', vmin=-1, vmax=1)\n",
    "plt.title('Correlation Heatmap of Independent and Control Variables')\n",
    "plt.show()"
   ]
  }
 ],
 "metadata": {
  "kernelspec": {
   "display_name": "Python 3",
   "language": "python",
   "name": "python3"
  },
  "language_info": {
   "codemirror_mode": {
    "name": "ipython",
    "version": 3
   },
   "file_extension": ".py",
   "mimetype": "text/x-python",
   "name": "python",
   "nbconvert_exporter": "python",
   "pygments_lexer": "ipython3",
   "version": "3.10.16"
  }
 },
 "nbformat": 4,
 "nbformat_minor": 2
}
